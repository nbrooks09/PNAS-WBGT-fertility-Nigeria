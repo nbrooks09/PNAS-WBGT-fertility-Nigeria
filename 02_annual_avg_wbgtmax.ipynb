{
 "cells": [
  {
   "cell_type": "markdown",
   "id": "76463f1b-ae12-450b-9b29-0fbf5c7ea6d1",
   "metadata": {},
   "source": [
    "# Annual Avg. WBGTmax\n",
    "By Cascade Tuholske, cascade dot tuholske 1 at montana dot edu \n",
    "\n",
    "This script opens and stacks rasters to estimate the grid-cell average. It is set up to run on WBGTmax daily data to create the average for a given year.\n",
    "\n",
    "To recreate Figure 1, it needs to be run on 1983 and 2016 WBGTmax data. \n",
    "\n",
    "The WBGTmax data can be found here: https://data.chc.ucsb.edu/people/cascade/UHE-daily/wbgtmax/\n",
    "\n",
    "Note: Be sure to check NAN value and split strings on rasters before running; change as needed. "
   ]
  },
  {
   "cell_type": "code",
   "execution_count": null,
   "id": "5b39effe-70bf-4bce-9f97-1ef12d2ae3e1",
   "metadata": {},
   "outputs": [],
   "source": [
    "# Dependencies\n",
    "import os\n",
    "import glob\n",
    "import dask\n",
    "import xarray as xr\n",
    "import numpy as np\n",
    "import rioxarray \n",
    "import rasterio\n",
    "import matplotlib.pyplot as plt\n",
    "import pandas as pd\n",
    "from dask.distributed import Client, LocalCluster"
   ]
  },
  {
   "cell_type": "code",
   "execution_count": null,
   "id": "7520ef46-1d8c-4217-9622-5e0c590323e1",
   "metadata": {},
   "outputs": [],
   "source": [
    "# Files\n",
    "year = '2016' #or 1983 \n",
    "path = os.path.join('PATH/TO/WBGTmax')\n",
    "fns = sorted(glob.glob(path + str(year) + '/*.tif'))\n",
    "print(fns[0])\n",
    "print(len(fns))"
   ]
  },
  {
   "cell_type": "code",
   "execution_count": null,
   "id": "cfc5fa7a-eec0-4d05-b15c-9592a112c4a1",
   "metadata": {},
   "outputs": [],
   "source": [
    "# Start Dask Cluster \n",
    "cluster = LocalCluster(n_workers=20, threads_per_worker = 1)\n",
    "client = Client(cluster)"
   ]
  },
  {
   "cell_type": "code",
   "execution_count": null,
   "id": "11bf4919-c6b2-4a55-a2eb-21775f6134d1",
   "metadata": {},
   "outputs": [],
   "source": [
    "# Open rasters as Dask Arrays in an Xarray Dataset \n",
    "\n",
    "def open_raster(filepath):\n",
    "    return rioxarray.open_rasterio(filepath, chunks='auto')\n",
    "\n",
    "# Open the raster files individually\n",
    "datasets = [open_raster(fn) for fn in fns]\n",
    "\n",
    "# Combine the datasets\n",
    "combined = xr.concat(datasets, dim='band')  # Adjust 'dim' as per your requirement"
   ]
  },
  {
   "cell_type": "code",
   "execution_count": null,
   "id": "7b67415b-fe93-4c58-ba05-f68c9dfd4d3f",
   "metadata": {},
   "outputs": [],
   "source": [
    "# Check the data\n",
    "combined"
   ]
  },
  {
   "cell_type": "code",
   "execution_count": null,
   "id": "a981467a-4554-4995-b322-8c819302832e",
   "metadata": {},
   "outputs": [],
   "source": [
    "# get the mean\n",
    "mean = combined.mean(dim = 'band').compute()"
   ]
  },
  {
   "cell_type": "code",
   "execution_count": null,
   "id": "65478e03-c578-405b-9e48-20c002cbcae9",
   "metadata": {},
   "outputs": [],
   "source": [
    "# Check the data\n",
    "plt.imshow(mean.data)\n",
    "plt.colorbar()"
   ]
  },
  {
   "cell_type": "code",
   "execution_count": null,
   "id": "925330b7-e432-4892-8b26-752e07a6401e",
   "metadata": {},
   "outputs": [],
   "source": [
    "mean.data"
   ]
  },
  {
   "cell_type": "code",
   "execution_count": null,
   "id": "58ea2d05-3d8f-4e4d-b0f8-043a23e548a9",
   "metadata": {},
   "outputs": [],
   "source": [
    "# Get data to write out and write NAN values \n",
    "arr_out = np.nan_to_num(mean, nan = -9999)\n",
    "arr_out"
   ]
  },
  {
   "cell_type": "code",
   "execution_count": null,
   "id": "5a84ae27-cdb0-45c3-b355-eead35c67c19",
   "metadata": {
    "scrolled": true
   },
   "outputs": [],
   "source": [
    "# meta data\n",
    "meta = rasterio.open(fns[0]).meta\n",
    "meta['nodata'] = -9999\n",
    "meta"
   ]
  },
  {
   "cell_type": "code",
   "execution_count": null,
   "id": "8c4cdc27-1112-4b93-959f-44047bd44aef",
   "metadata": {},
   "outputs": [],
   "source": [
    "# write it out \n",
    "fn_out = os.path.join('PATH/OUT/GHE-wbgtmax-avg-' + str(year) + '.tif')\n",
    "with rasterio.open(fn_out, 'w', **meta) as out:\n",
    "    out.write_band(1, arr_out)"
   ]
  },
  {
   "cell_type": "code",
   "execution_count": null,
   "id": "8c423974-f117-492f-ae50-aaa6a6a7646f",
   "metadata": {},
   "outputs": [],
   "source": [
    "# shut down the cluster\n",
    "client.close()"
   ]
  }
 ],
 "metadata": {
  "kernelspec": {
   "display_name": "Python 3 (ipykernel)",
   "language": "python",
   "name": "python3"
  },
  "language_info": {
   "codemirror_mode": {
    "name": "ipython",
    "version": 3
   },
   "file_extension": ".py",
   "mimetype": "text/x-python",
   "name": "python",
   "nbconvert_exporter": "python",
   "pygments_lexer": "ipython3",
   "version": "3.10.9"
  }
 },
 "nbformat": 4,
 "nbformat_minor": 5
}
