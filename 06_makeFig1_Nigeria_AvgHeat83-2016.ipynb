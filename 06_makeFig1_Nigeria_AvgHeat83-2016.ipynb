{
 "cells": [
  {
   "cell_type": "markdown",
   "id": "4844eec9",
   "metadata": {},
   "source": [
    "# Nigeria 1983 - 2016\n",
    "By Cascade Tuholske, cascade dot tuholske 1 at montana dot edu \n",
    "\n",
    "Notebook to make a Figure 1 of the average annual WBGTmax for 1983 and 2016 and Difference for Nigeria "
   ]
  },
  {
   "cell_type": "code",
   "execution_count": null,
   "id": "f2ac6839",
   "metadata": {},
   "outputs": [],
   "source": [
    "# Dependencies\n",
    "import pandas as pd\n",
    "import numpy as np\n",
    "import os\n",
    "import geopandas as gpd\n",
    "import matplotlib.pyplot as plt\n",
    "import rasterio\n",
    "from rasterio.plot import show"
   ]
  },
  {
   "cell_type": "markdown",
   "id": "2a194256-16db-4fc3-ab4b-a3bbb7064780",
   "metadata": {},
   "source": [
    "## Make a Dif Raster"
   ]
  },
  {
   "cell_type": "code",
   "execution_count": null,
   "id": "2952795a",
   "metadata": {},
   "outputs": [],
   "source": [
    "# open raster as arrays\n",
    "ob2016 = rasterio.open(os.path.join('PATH/TO/DATA/GHE-wbgtmax-avg-2016.tif')).read(1)\n",
    "ob1983 = rasterio.open(os.path.join('PATH/TO/DATA/GHE-wbgtmax-avg-1983.tif')).read(1)"
   ]
  },
  {
   "cell_type": "code",
   "execution_count": null,
   "id": "771cb4ec-2b97-44cc-8024-081406ba216d",
   "metadata": {},
   "outputs": [],
   "source": [
    "# Check the data\n",
    "plt.imshow(np.ma.masked_equal(ob1983, -9999))\n",
    "plt.colorbar()"
   ]
  },
  {
   "cell_type": "code",
   "execution_count": null,
   "id": "0c066d2f",
   "metadata": {},
   "outputs": [],
   "source": [
    "# Make a masked difference raster (note one Pixel in Bangladesh in land in 1983 but not in 2016).  \n",
    "dif = ob2016 - ob1983\n",
    "ocean = np.where(ob1983 == -9999, -9999, 0)\n",
    "dif = dif + ocean \n",
    "print(dif.min())\n",
    "dif = np.where(dif < -9999, -9999, dif) # set the Bangladesh pixel to ocean\n",
    "print(dif.min())\n",
    "dif_mask = np.ma.masked_equal(dif, -9999) # mask the array for plotting"
   ]
  },
  {
   "cell_type": "code",
   "execution_count": null,
   "id": "08d67ec9",
   "metadata": {
    "scrolled": true
   },
   "outputs": [],
   "source": [
    "# Check dif_mask\n",
    "plt.imshow(dif_mask)\n",
    "plt.colorbar()"
   ]
  },
  {
   "cell_type": "code",
   "execution_count": null,
   "id": "0a131725-582a-497a-b9a1-a460aaea480c",
   "metadata": {},
   "outputs": [],
   "source": [
    "# change the data type of dif\n",
    "dif = dif.astype(np.float32)"
   ]
  },
  {
   "cell_type": "code",
   "execution_count": null,
   "id": "565043c5",
   "metadata": {},
   "outputs": [],
   "source": [
    "# write it out \n",
    "meta = rasterio.open(os.path.join('PATH/TO/DATA/GHE-wbgtmax-avg-2016.tif')).meta\n",
    "\n",
    "fn_out = os.path.join('PATH/TO/DATA/GHE-wbgtmax-avg-8316.tif')\n",
    "with rasterio.open(fn_out, 'w', **meta) as out:\n",
    "    out.write_band(1, dif)"
   ]
  },
  {
   "cell_type": "markdown",
   "id": "ab8fb393-99ab-496a-9ac7-8ef94cfe3551",
   "metadata": {},
   "source": [
    "## Plot"
   ]
  },
  {
   "cell_type": "code",
   "execution_count": null,
   "id": "09b7abdd-cd8f-4349-bbfa-0d7be4b382e9",
   "metadata": {},
   "outputs": [],
   "source": [
    "# open shapefile from Natural Earth: \n",
    "# https://www.naturalearthdata.com/downloads/10m-cultural-vectors/10m-admin-0-countries/\n",
    "shps = gpd.read_file(os.path.join('PATH/TO/DATA/ne_10m_admin_0_countries/ne_10m_admin_0_countries.shp'))\n",
    "shps.crs"
   ]
  },
  {
   "cell_type": "code",
   "execution_count": null,
   "id": "88546291-d390-42f5-afbd-31c76e7127b3",
   "metadata": {},
   "outputs": [],
   "source": [
    "# Open the rst as rasterio objects\n",
    "ob2016 = rasterio.open(os.path.join('PATH/TO/DATA/GHE-wbgtmax-avg-2016.tif'))\n",
    "ob1983 = rasterio.open(os.path.join('PATH/TO/DATA/GHE-wbgtmax-avg-1983.tif'))\n",
    "dif = rasterio.open(os.path.join('PATH/TO/DATA/GHE-wbgtmax-avg-8316.tif'))"
   ]
  },
  {
   "cell_type": "code",
   "execution_count": null,
   "id": "06fc0eea-24c3-4f49-9c51-ceba73e866eb",
   "metadata": {},
   "outputs": [],
   "source": [
    "# set up\n",
    "\n",
    "fig, axs = plt.subplots(nrows=1,ncols=3, figsize=(25,15))\n",
    "\n",
    "ws = 0.05\n",
    "fig.subplots_adjust(wspace=ws)\n",
    "\n",
    "# 1983\n",
    "im1 = show(ob1983, ax = axs[0], vmin = 15, vmax = 30, cmap = 'hot_r')\n",
    "shps.boundary.plot(ax = axs[0], color = 'gray')\n",
    "\n",
    "# 2016 \n",
    "im2 = show(ob2016, ax = axs[1], vmin = 15, vmax = 30, cmap = 'hot_r')\n",
    "shps.boundary.plot(ax = axs[1], color = 'gray')\n",
    "\n",
    "# dif \n",
    "im3 = show(dif, ax = axs[2], vmin = 0, vmax = 1.75, cmap = 'plasma_r')\n",
    "shps.boundary.plot(ax = axs[2], color = 'gray')\n",
    "\n",
    "# color bar\n",
    "cb1 = fig.colorbar(mappable = im1.get_images()[0], ax = axs[0], shrink = 0.35)\n",
    "cb2 = fig.colorbar(mappable = im2.get_images()[0], ax = axs[1], shrink = 0.35)\n",
    "cb3 = fig.colorbar(mappable = im3.get_images()[0], ax = axs[2], shrink = 0.35)\n",
    "\n",
    "cb1.set_label('°C', fontsize=12, rotation = 0, labelpad=10)\n",
    "cb2.set_label('°C', fontsize=12, rotation = 0, labelpad=10)\n",
    "cb3.set_label('°C', fontsize=12, rotation = 0, labelpad=10)\n",
    "\n",
    "# limits\n",
    "xmin = 2.5\n",
    "xmax = 15\n",
    "ymin = 4\n",
    "ymax = 14\n",
    "\n",
    "axs[0].set_xlim(xmin, xmax);\n",
    "axs[0].set_ylim(ymin, ymax);\n",
    "axs[1].set_xlim(xmin, xmax);\n",
    "axs[1].set_ylim(ymin, ymax);\n",
    "axs[2].set_xlim(xmin, xmax);\n",
    "axs[2].set_ylim(ymin, ymax);\n",
    "\n",
    "# remove the x and y ticks\n",
    "for ax in axs:\n",
    "    ax.set_xticks([])\n",
    "    ax.set_yticks([])\n",
    "\n",
    "# Titles\n",
    "axs[0].set_title('1983', fontsize = 17);\n",
    "axs[1].set_title('2016', fontsize = 17)\n",
    "axs[2].set_title('Increase 1983 - 2016', fontsize = 16)\n",
    "\n",
    "#fig.subplots_adjust(top = 1.47)\n",
    "#fig.suptitle('Average Daily Maximum WBGT for Nigeria', fontsize = 20);\n",
    "\n",
    "# Add panel letters (a), (b), (c)\n",
    "axs[0].text(-0.1, 1.05, '(a)', transform=axs[0].transAxes, fontsize=15, va='top'); #  fontweight='bold',\n",
    "axs[1].text(-0.1, 1.05, '(b)', transform=axs[1].transAxes, fontsize=15, va='top');\n",
    "axs[2].text(-0.1, 1.05, '(c)', transform=axs[2].transAxes, fontsize=15, va='top');\n",
    "\n",
    "# save it out\n",
    "plt.savefig(os.path.join('PATH/TO/DATA/wbgtmax-avg1983-2016-ng.pdf'), dpi = 300, bbox_inches='tight')"
   ]
  }
 ],
 "metadata": {
  "kernelspec": {
   "display_name": "Python 3 (ipykernel)",
   "language": "python",
   "name": "python3"
  },
  "language_info": {
   "codemirror_mode": {
    "name": "ipython",
    "version": 3
   },
   "file_extension": ".py",
   "mimetype": "text/x-python",
   "name": "python",
   "nbconvert_exporter": "python",
   "pygments_lexer": "ipython3",
   "version": "3.10.9"
  }
 },
 "nbformat": 4,
 "nbformat_minor": 5
}
